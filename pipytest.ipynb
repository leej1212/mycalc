{
  "nbformat": 4,
  "nbformat_minor": 0,
  "metadata": {
    "colab": {
      "provenance": [],
      "authorship_tag": "ABX9TyPfyAjiiZmeWBZ275y0GkGT",
      "include_colab_link": true
    },
    "kernelspec": {
      "name": "python3",
      "display_name": "Python 3"
    },
    "language_info": {
      "name": "python"
    }
  },
  "cells": [
    {
      "cell_type": "markdown",
      "metadata": {
        "id": "view-in-github",
        "colab_type": "text"
      },
      "source": [
        "<a href=\"https://colab.research.google.com/github/leej1212/mycalc/blob/main/pipytest.ipynb\" target=\"_parent\"><img src=\"https://colab.research.google.com/assets/colab-badge.svg\" alt=\"Open In Colab\"/></a>"
      ]
    },
    {
      "cell_type": "code",
      "execution_count": 3,
      "metadata": {
        "colab": {
          "base_uri": "https://localhost:8080/"
        },
        "id": "Aaf98Q4xKKtN",
        "outputId": "cfb41355-2a4d-4629-d340-8e5947ec8e2a"
      },
      "outputs": [
        {
          "output_type": "stream",
          "name": "stdout",
          "text": [
            "Writing mycalc/calculator.py\n"
          ]
        }
      ],
      "source": [
        "%%writefile mycalc/calculator.py\n",
        "def add(a, b):\n",
        "  return a+b\n",
        "\n",
        "def sub(a, b):\n",
        "  return a-b\n",
        "\n",
        "def mul(a, b):\n",
        "  return a*b\n",
        "\n",
        "def div(a, b):\n",
        "  return a/b"
      ]
    },
    {
      "cell_type": "code",
      "source": [
        "%%writefile setup.py\n",
        "import setuptools\n",
        "\n",
        "setuptools.setup(\n",
        "    name='mycalc_test',\n",
        "    version='0.0.1',\n",
        "    description='calculator test in pypi',\n",
        "    author='leej1212',\n",
        "    url='https://github.com/leej1212/mycalc',\n",
        "    download_url='https://github.com/leej1212/mycalc/',\n",
        "    packages=['mycalc01'],\n",
        "    classifiers=[\n",
        "        'Programming Language :: Python :: 3',\n",
        "    ]\n",
        ")"
      ],
      "metadata": {
        "colab": {
          "base_uri": "https://localhost:8080/"
        },
        "id": "N5Ig2mMdKeo7",
        "outputId": "52b6a87c-997d-4e56-96b4-ac1351da1480"
      },
      "execution_count": 4,
      "outputs": [
        {
          "output_type": "stream",
          "name": "stdout",
          "text": [
            "Writing setup.py\n"
          ]
        }
      ]
    },
    {
      "cell_type": "code",
      "source": [],
      "metadata": {
        "id": "CKDX4MIXTxdh"
      },
      "execution_count": null,
      "outputs": []
    }
  ]
}